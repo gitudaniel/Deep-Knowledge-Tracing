{
 "cells": [
  {
   "cell_type": "markdown",
   "id": "binding-consortium",
   "metadata": {},
   "source": [
    "### Confirm we can use a GPU to run the model"
   ]
  },
  {
   "cell_type": "code",
   "execution_count": 7,
   "id": "european-imaging",
   "metadata": {},
   "outputs": [],
   "source": [
    "import tensorflow as tf"
   ]
  },
  {
   "cell_type": "code",
   "execution_count": 8,
   "id": "focal-salmon",
   "metadata": {},
   "outputs": [
    {
     "name": "stdout",
     "output_type": "stream",
     "text": [
      "0 Physical GPUs, 0 Logical GPU\n"
     ]
    }
   ],
   "source": [
    "gpus = tf.config.list_physical_devices('GPU')\n",
    "logical_gpus = tf.config.experimental.list_logical_devices('GPU')\n",
    "print(len(gpus), \"Physical GPUs,\", len(logical_gpus), \"Logical GPU\")"
   ]
  },
  {
   "cell_type": "code",
   "execution_count": 9,
   "id": "healthy-glasgow",
   "metadata": {},
   "outputs": [],
   "source": [
    "from tensorflow.python.client import device_lib"
   ]
  },
  {
   "cell_type": "code",
   "execution_count": 10,
   "id": "removable-integrity",
   "metadata": {},
   "outputs": [
    {
     "data": {
      "text/plain": [
       "[name: \"/device:CPU:0\"\n",
       " device_type: \"CPU\"\n",
       " memory_limit: 268435456\n",
       " locality {\n",
       " }\n",
       " incarnation: 13805922394068669191]"
      ]
     },
     "execution_count": 10,
     "metadata": {},
     "output_type": "execute_result"
    }
   ],
   "source": [
    "device_lib.list_local_devices()"
   ]
  },
  {
   "cell_type": "code",
   "execution_count": 11,
   "id": "painted-expansion",
   "metadata": {},
   "outputs": [
    {
     "data": {
      "text/plain": [
       "''"
      ]
     },
     "execution_count": 11,
     "metadata": {},
     "output_type": "execute_result"
    }
   ],
   "source": [
    "tf.test.gpu_device_name()"
   ]
  },
  {
   "cell_type": "code",
   "execution_count": 12,
   "id": "three-threat",
   "metadata": {},
   "outputs": [
    {
     "data": {
      "text/plain": [
       "[]"
      ]
     },
     "execution_count": 12,
     "metadata": {},
     "output_type": "execute_result"
    }
   ],
   "source": [
    "tf.config.list_physical_devices(\"GPU\")"
   ]
  },
  {
   "cell_type": "markdown",
   "id": "treated-behalf",
   "metadata": {},
   "source": [
    "### Define constants"
   ]
  },
  {
   "cell_type": "code",
   "execution_count": 26,
   "id": "enabling-musician",
   "metadata": {},
   "outputs": [],
   "source": [
    "data = \"data/kuze_data/evaluations_per_ans_with_taxonomy_ids_PPL.csv\"\n",
    "factorized_taxonomies = \"data/kuze_data/factorized_math_taxonomies.csv\"\n",
    "verbose = 1\n",
    "best_model_weights = \"weights/bestmodel\"\n",
    "log_dir = \"logs\"\n",
    "optimizer = \"adam\"\n",
    "lstm_units = 100\n",
    "batch_size = 32\n",
    "epochs = 100\n",
    "dropout_rate = 0.3\n",
    "test_fraction = 0.2\n",
    "validation_fraction = 0.2"
   ]
  },
  {
   "cell_type": "markdown",
   "id": "gothic-browser",
   "metadata": {},
   "source": [
    "### Pre-processing"
   ]
  },
  {
   "cell_type": "code",
   "execution_count": 14,
   "id": "satisfied-microwave",
   "metadata": {},
   "outputs": [],
   "source": [
    "import sys\n",
    "\n",
    "sys.path.append('/home/grenouille/Documents/jenga/final_project/code/kuze_dkt_imp')"
   ]
  },
  {
   "cell_type": "code",
   "execution_count": 15,
   "id": "medium-rainbow",
   "metadata": {},
   "outputs": [
    {
     "name": "stderr",
     "output_type": "stream",
     "text": [
      "/home/grenouille/anaconda3/envs/tf_env/lib/python3.8/site-packages/IPython/core/interactiveshell.py:3357: DtypeWarning: Columns (15,18,19,29,30,31,32) have mixed types.Specify dtype option on import or set low_memory=False.\n",
      "  if (await self.run_code(code, result,  async_=asy)):\n"
     ]
    },
    {
     "name": "stdout",
     "output_type": "stream",
     "text": [
      "============== Data Summary ==============\n",
      "Total number of students: 1120\n",
      "Training set size: 716\n",
      "Validation set size: 179\n",
      "Testing set size: 224\n",
      "Number of skills: 350\n",
      "Number of features in the input: 351\n",
      "========================================= \n"
     ]
    }
   ],
   "source": [
    "from deepkt import deepkt, data_util, metrics\n",
    "\n",
    "dataset, length, nb_features, nb_taxonomies = data_util.load_dataset(data, factorized_taxonomies, batch_size=batch_size, shuffle=True)\n",
    "\n",
    "train_set, test_set, val_set = data_util.split_dataset(dataset=dataset, total_size=length, test_fraction=test_fraction, val_fraction=validation_fraction)\n",
    "\n",
    "set_size = length * batch_size\n",
    "\n",
    "test_set_size = (set_size * test_fraction)\n",
    "\n",
    "val_set_size = (set_size - test_set_size) * validation_fraction\n",
    "\n",
    "train_set_size = set_size - test_set_size - val_set_size\n",
    "\n",
    "print(\"============== Data Summary ==============\")\n",
    "print(\"Total number of students: %d\" % set_size)\n",
    "print(\"Training set size: %d\" % train_set_size)\n",
    "print(\"Validation set size: %d\" % val_set_size)\n",
    "print(\"Testing set size: %d\" % test_set_size)\n",
    "print(\"Number of skills: %d\" % nb_taxonomies)\n",
    "print(\"Number of features in the input: %d\" % nb_features)\n",
    "print(\"========================================= \")"
   ]
  },
  {
   "cell_type": "markdown",
   "id": "attempted-gambling",
   "metadata": {},
   "source": [
    "### Building the model"
   ]
  },
  {
   "cell_type": "code",
   "execution_count": 16,
   "id": "operating-compound",
   "metadata": {},
   "outputs": [
    {
     "name": "stdout",
     "output_type": "stream",
     "text": [
      "Model: \"DKTModel\"\n",
      "_________________________________________________________________\n",
      "Layer (type)                 Output Shape              Param #   \n",
      "=================================================================\n",
      "inputs (InputLayer)          [(None, None, 351)]       0         \n",
      "_________________________________________________________________\n",
      "masking (Masking)            (None, None, 351)         0         \n",
      "_________________________________________________________________\n",
      "lstm (LSTM)                  (None, None, 100)         180800    \n",
      "_________________________________________________________________\n",
      "outputs (TimeDistributed)    (None, None, 350)         35350     \n",
      "=================================================================\n",
      "Total params: 216,150\n",
      "Trainable params: 216,150\n",
      "Non-trainable params: 0\n",
      "_________________________________________________________________\n"
     ]
    }
   ],
   "source": [
    "student_model = deepkt.DKTModel(\n",
    "        nb_features=nb_features,\n",
    "        nb_taxonomies=nb_taxonomies,\n",
    "        hidden_units=lstm_units,\n",
    "        dropout_rate=dropout_rate)\n",
    "\n",
    "student_model.compile(\n",
    "        optimizer=optimizer,\n",
    "        metrics=[\n",
    "            metrics.BinaryAccuracy(),\n",
    "            metrics.AUC(),\n",
    "            metrics.Precision(),\n",
    "            metrics.Recall()\n",
    "        ])\n",
    "\n",
    "student_model.summary()"
   ]
  },
  {
   "cell_type": "markdown",
   "id": "broadband-cylinder",
   "metadata": {},
   "source": [
    "### Train the model"
   ]
  },
  {
   "cell_type": "code",
   "execution_count": 17,
   "id": "public-conditioning",
   "metadata": {},
   "outputs": [
    {
     "name": "stdout",
     "output_type": "stream",
     "text": [
      "22/22 [==============================] - 124s 5s/step - loss: 0.1192 - binary_accuracy: 0.5415 - auc: 0.5544 - precision: 0.5168 - recall: 0.5100 - val_loss: 0.1031 - val_binary_accuracy: 0.5832 - val_auc: 0.6153 - val_precision: 0.6004 - val_recall: 0.5120\n"
     ]
    }
   ],
   "source": [
    "import tensorflow as tf\n",
    "history = student_model.fit(\n",
    "    dataset=train_set,\n",
    "    epochs=epochs,\n",
    "    verbose=verbose,\n",
    "    validation_data=val_set,\n",
    "    callbacks=[\n",
    "        tf.keras.callbacks.CSVLogger(f\"{log_dir}/train.log\"),\n",
    "        tf.keras.callbacks.ModelCheckpoint(best_model_weights, save_best_only=True, save_weights_only=True),\n",
    "        tf.keras.callbacks.TensorBoard(log_dir=log_dir)\n",
    "    ]\n",
    ")"
   ]
  },
  {
   "cell_type": "markdown",
   "id": "excessive-dancing",
   "metadata": {},
   "source": [
    "### Load the model with the best validation loss"
   ]
  },
  {
   "cell_type": "code",
   "execution_count": 18,
   "id": "oriented-bathroom",
   "metadata": {},
   "outputs": [
    {
     "data": {
      "text/plain": [
       "<tensorflow.python.training.tracking.util.CheckpointLoadStatus at 0x7fd1556abbe0>"
      ]
     },
     "execution_count": 18,
     "metadata": {},
     "output_type": "execute_result"
    }
   ],
   "source": [
    "student_model.load_weights(best_model_weights)"
   ]
  },
  {
   "cell_type": "markdown",
   "id": "great-blink",
   "metadata": {},
   "source": [
    "### Test the model"
   ]
  },
  {
   "cell_type": "code",
   "execution_count": 19,
   "id": "interesting-appointment",
   "metadata": {},
   "outputs": [
    {
     "name": "stdout",
     "output_type": "stream",
     "text": [
      "7/7 [==============================] - 12s 2s/step - loss: 0.0788 - binary_accuracy: 0.5855 - auc: 0.6138 - precision: 0.5749 - recall: 0.5093\n"
     ]
    }
   ],
   "source": [
    "result = student_model.evaluate(test_set, verbose=verbose)"
   ]
  },
  {
   "cell_type": "code",
   "execution_count": 20,
   "id": "fleet-citizen",
   "metadata": {},
   "outputs": [
    {
     "data": {
      "text/plain": [
       "{'loss': 0.07880068570375443,\n",
       " 'binary_accuracy': 0.5855172276496887,\n",
       " 'auc': 0.6138414144515991,\n",
       " 'precision': 0.5748977661132812,\n",
       " 'recall': 0.5092509984970093}"
      ]
     },
     "execution_count": 20,
     "metadata": {},
     "output_type": "execute_result"
    }
   ],
   "source": [
    "result"
   ]
  },
  {
   "cell_type": "code",
   "execution_count": 21,
   "id": "intellectual-impression",
   "metadata": {},
   "outputs": [
    {
     "name": "stderr",
     "output_type": "stream",
     "text": [
      "WARNING:absl:Found untraced functions such as lstm_cell_layer_call_fn, lstm_cell_layer_call_and_return_conditional_losses, lstm_cell_layer_call_fn, lstm_cell_layer_call_and_return_conditional_losses, lstm_cell_layer_call_and_return_conditional_losses while saving (showing 5 of 5). These functions will not be directly callable after loading.\n",
      "WARNING:absl:Found untraced functions such as lstm_cell_layer_call_fn, lstm_cell_layer_call_and_return_conditional_losses, lstm_cell_layer_call_fn, lstm_cell_layer_call_and_return_conditional_losses, lstm_cell_layer_call_and_return_conditional_losses while saving (showing 5 of 5). These functions will not be directly callable after loading.\n"
     ]
    },
    {
     "name": "stdout",
     "output_type": "stream",
     "text": [
      "INFO:tensorflow:Assets written to: student_prediction/student_prediction_model/assets\n"
     ]
    },
    {
     "name": "stderr",
     "output_type": "stream",
     "text": [
      "INFO:tensorflow:Assets written to: student_prediction/student_prediction_model/assets\n"
     ]
    }
   ],
   "source": [
    "student_model.save('student_prediction/student_prediction_model')"
   ]
  }
 ],
 "metadata": {
  "kernelspec": {
   "display_name": "Python 3",
   "language": "python",
   "name": "python3"
  },
  "language_info": {
   "codemirror_mode": {
    "name": "ipython",
    "version": 3
   },
   "file_extension": ".py",
   "mimetype": "text/x-python",
   "name": "python",
   "nbconvert_exporter": "python",
   "pygments_lexer": "ipython3",
   "version": "3.8.8"
  }
 },
 "nbformat": 4,
 "nbformat_minor": 5
}
