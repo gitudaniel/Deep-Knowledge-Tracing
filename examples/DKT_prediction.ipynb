{
 "cells": [
  {
   "cell_type": "code",
   "execution_count": 20,
   "id": "planned-operations",
   "metadata": {},
   "outputs": [],
   "source": [
    "import pandas as pd\n",
    "import sys\n",
    "import tensorflow as tf\n",
    "\n",
    "from keras.models import load_model\n",
    "from deepkt import DKTModel\n",
    "\n",
    "sys.path.append('/home/grenouille/Documents/jenga/final_project/code/kuze_dkt_imp')"
   ]
  },
  {
   "cell_type": "code",
   "execution_count": 2,
   "id": "comfortable-cedar",
   "metadata": {},
   "outputs": [],
   "source": [
    "model = load_model('student_prediction', custom_objects={'DKTModel': DKTModel, 'custom_loss': DKTModel.custom_loss})"
   ]
  },
  {
   "cell_type": "code",
   "execution_count": 3,
   "id": "contained-negative",
   "metadata": {},
   "outputs": [
    {
     "data": {
      "text/plain": [
       "<tensorflow.python.keras.engine.functional.Functional at 0x7fcd5453b880>"
      ]
     },
     "execution_count": 3,
     "metadata": {},
     "output_type": "execute_result"
    }
   ],
   "source": [
    "model"
   ]
  },
  {
   "cell_type": "code",
   "execution_count": 5,
   "id": "affected-treatment",
   "metadata": {},
   "outputs": [],
   "source": [
    "data = pd.read_csv('data/kuze_data/predictor_evaluations.csv')"
   ]
  },
  {
   "cell_type": "code",
   "execution_count": 6,
   "id": "intelligent-consolidation",
   "metadata": {},
   "outputs": [
    {
     "data": {
      "text/plain": [
       "(1515, 45)"
      ]
     },
     "execution_count": 6,
     "metadata": {},
     "output_type": "execute_result"
    }
   ],
   "source": [
    "data.shape"
   ]
  },
  {
   "cell_type": "code",
   "execution_count": 22,
   "id": "small-feature",
   "metadata": {},
   "outputs": [],
   "source": [
    "taxonomies = pd.read_csv('data/kuze_data/factorized_math_taxonomies.csv')"
   ]
  },
  {
   "cell_type": "code",
   "execution_count": 23,
   "id": "complicated-lawsuit",
   "metadata": {},
   "outputs": [],
   "source": [
    "data['factorized_taxonomy_code'] = data['taxonomy_id_0'].map(\n",
    "    taxonomies.set_index('taxonomy_id_0')['factorized_taxonomy_code'])"
   ]
  },
  {
   "cell_type": "code",
   "execution_count": 13,
   "id": "imperial-poster",
   "metadata": {},
   "outputs": [
    {
     "data": {
      "text/plain": [
       "(1515, 47)"
      ]
     },
     "execution_count": 13,
     "metadata": {},
     "output_type": "execute_result"
    }
   ],
   "source": [
    "data.shape"
   ]
  },
  {
   "cell_type": "code",
   "execution_count": 27,
   "id": "dated-balloon",
   "metadata": {},
   "outputs": [],
   "source": [
    "def preprocess_for_prediction(dataframe):\n",
    "    seq = dataframe.groupby('student_id').apply(\n",
    "        lambda r: (\n",
    "            r['factorized_taxonomy_code'].values[:]\n",
    "        )\n",
    "    )\n",
    "    dataset = tf.data.Dataset.from_generator(\n",
    "        generator=lambda: seq,\n",
    "        output_types=(tf.int32)\n",
    "    )\n",
    "    dataset = dataset.map(\n",
    "        lambda factorized_taxonomy_code: (\n",
    "            tf.one_hot(factorized_taxonomy_code, depth=700)\n",
    "        )\n",
    "    )\n",
    "    dataset = dataset.padded_batch(\n",
    "        batch_size=64,\n",
    "        padding_values=(tf.constant(-1, dtype=tf.float32)),\n",
    "        padded_shapes=([44,None])\n",
    "    )\n",
    "    return dataset"
   ]
  },
  {
   "cell_type": "code",
   "execution_count": 28,
   "id": "genetic-format",
   "metadata": {},
   "outputs": [],
   "source": [
    "dataset = preprocess_for_prediction(data)"
   ]
  },
  {
   "cell_type": "code",
   "execution_count": 29,
   "id": "referenced-contract",
   "metadata": {},
   "outputs": [],
   "source": [
    "preds = model.predict(dataset)"
   ]
  },
  {
   "cell_type": "code",
   "execution_count": 17,
   "id": "ecological-smart",
   "metadata": {},
   "outputs": [
    {
     "data": {
      "text/plain": [
       "225"
      ]
     },
     "execution_count": 17,
     "metadata": {},
     "output_type": "execute_result"
    }
   ],
   "source": [
    "len(preds)"
   ]
  },
  {
   "cell_type": "code",
   "execution_count": 18,
   "id": "adjusted-mistress",
   "metadata": {},
   "outputs": [
    {
     "data": {
      "text/plain": [
       "array([[0.50010425, 0.50384927, 0.500363  , ..., 0.4970426 , 0.49445853,\n",
       "        0.508408  ],\n",
       "       [0.49629036, 0.5047769 , 0.4988176 , ..., 0.49531838, 0.49282914,\n",
       "        0.51038986],\n",
       "       [0.4931501 , 0.508169  , 0.50035304, ..., 0.49001163, 0.4915433 ,\n",
       "        0.51212895],\n",
       "       ...,\n",
       "       [0.44282502, 0.54463005, 0.49871698, ..., 0.43799603, 0.45592615,\n",
       "        0.54973525],\n",
       "       [0.44282502, 0.54463005, 0.49871698, ..., 0.43799603, 0.45592615,\n",
       "        0.54973525],\n",
       "       [0.44282502, 0.54463005, 0.49871698, ..., 0.43799603, 0.45592615,\n",
       "        0.54973525]], dtype=float32)"
      ]
     },
     "execution_count": 18,
     "metadata": {},
     "output_type": "execute_result"
    }
   ],
   "source": [
    "preds[0]"
   ]
  },
  {
   "cell_type": "code",
   "execution_count": 19,
   "id": "separate-hopkins",
   "metadata": {},
   "outputs": [
    {
     "data": {
      "text/plain": [
       "44"
      ]
     },
     "execution_count": 19,
     "metadata": {},
     "output_type": "execute_result"
    }
   ],
   "source": [
    "len(preds[0])"
   ]
  }
 ],
 "metadata": {
  "kernelspec": {
   "display_name": "Python 3",
   "language": "python",
   "name": "python3"
  },
  "language_info": {
   "codemirror_mode": {
    "name": "ipython",
    "version": 3
   },
   "file_extension": ".py",
   "mimetype": "text/x-python",
   "name": "python",
   "nbconvert_exporter": "python",
   "pygments_lexer": "ipython3",
   "version": "3.8.8"
  }
 },
 "nbformat": 4,
 "nbformat_minor": 5
}
